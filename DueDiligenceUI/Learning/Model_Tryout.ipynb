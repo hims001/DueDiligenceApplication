{
 "cells": [
  {
   "cell_type": "code",
   "execution_count": 87,
   "metadata": {},
   "outputs": [
    {
     "name": "stdout",
     "output_type": "stream",
     "text": [
      "#######################################################################################\n",
      "Select an operation : \n",
      "1. Train the Model\n",
      "2. Feedback to the Model\n",
      "#######################################################################################\n",
      "Enter the number : 1\n",
      "Number of records for training the model :  502\n",
      "vocab_size : 13577\n",
      "max_length : 1584\n",
      "Model: \"sequential_10\"\n",
      "_________________________________________________________________\n",
      "Layer (type)                 Output Shape              Param #   \n",
      "=================================================================\n",
      "embedding_10 (Embedding)     (None, 1584, 50)          678850    \n",
      "_________________________________________________________________\n",
      "dense_37 (Dense)             (None, 1584, 50)          2550      \n",
      "_________________________________________________________________\n",
      "dropout_19 (Dropout)         (None, 1584, 50)          0         \n",
      "_________________________________________________________________\n",
      "dense_38 (Dense)             (None, 1584, 50)          2550      \n",
      "_________________________________________________________________\n",
      "dropout_20 (Dropout)         (None, 1584, 50)          0         \n",
      "_________________________________________________________________\n",
      "dense_39 (Dense)             (None, 1584, 50)          2550      \n",
      "_________________________________________________________________\n",
      "global_max_pooling1d_10 (Glo (None, 50)                0         \n",
      "_________________________________________________________________\n",
      "dense_40 (Dense)             (None, 1)                 51        \n",
      "=================================================================\n",
      "Total params: 686,551\n",
      "Trainable params: 7,701\n",
      "Non-trainable params: 678,850\n",
      "_________________________________________________________________\n",
      "None\n",
      "X_train, y_train 376 376\n",
      "X_test, y_test 126 126\n",
      "Train on 376 samples, validate on 126 samples\n",
      "Epoch 1/20\n",
      "376/376 [==============================] - ETA: 8s - loss: 0.9093 - acc: 0.300 - ETA: 3s - loss: 0.8070 - acc: 0.366 - ETA: 2s - loss: 0.7561 - acc: 0.420 - ETA: 1s - loss: 0.7407 - acc: 0.428 - ETA: 1s - loss: 0.7305 - acc: 0.455 - ETA: 1s - loss: 0.7188 - acc: 0.490 - ETA: 1s - loss: 0.7067 - acc: 0.523 - ETA: 1s - loss: 0.7199 - acc: 0.500 - ETA: 1s - loss: 0.7135 - acc: 0.494 - ETA: 0s - loss: 0.7164 - acc: 0.489 - ETA: 0s - loss: 0.7123 - acc: 0.495 - ETA: 0s - loss: 0.7079 - acc: 0.500 - ETA: 0s - loss: 0.7023 - acc: 0.508 - ETA: 0s - loss: 0.6956 - acc: 0.514 - ETA: 0s - loss: 0.6940 - acc: 0.510 - ETA: 0s - loss: 0.6924 - acc: 0.516 - ETA: 0s - loss: 0.6871 - acc: 0.521 - ETA: 0s - loss: 0.6861 - acc: 0.517 - ETA: 0s - loss: 0.6830 - acc: 0.521 - 2s 5ms/step - loss: 0.6826 - acc: 0.5213 - val_loss: 0.6304 - val_acc: 0.7619\n",
      "Epoch 2/20\n",
      "376/376 [==============================] - ETA: 1s - loss: 0.6212 - acc: 0.700 - ETA: 1s - loss: 0.6255 - acc: 0.666 - ETA: 1s - loss: 0.6094 - acc: 0.680 - ETA: 1s - loss: 0.6096 - acc: 0.671 - ETA: 1s - loss: 0.6075 - acc: 0.688 - ETA: 0s - loss: 0.6007 - acc: 0.690 - ETA: 0s - loss: 0.6012 - acc: 0.692 - ETA: 0s - loss: 0.6079 - acc: 0.700 - ETA: 0s - loss: 0.5992 - acc: 0.729 - ETA: 0s - loss: 0.6015 - acc: 0.726 - ETA: 0s - loss: 0.6070 - acc: 0.704 - ETA: 0s - loss: 0.6047 - acc: 0.708 - ETA: 0s - loss: 0.5986 - acc: 0.724 - ETA: 0s - loss: 0.5945 - acc: 0.733 - ETA: 0s - loss: 0.5934 - acc: 0.737 - ETA: 0s - loss: 0.5928 - acc: 0.738 - ETA: 0s - loss: 0.5880 - acc: 0.739 - ETA: 0s - loss: 0.5839 - acc: 0.745 - ETA: 0s - loss: 0.5799 - acc: 0.751 - 1s 4ms/step - loss: 0.5801 - acc: 0.7500 - val_loss: 0.5377 - val_acc: 0.7937\n",
      "Epoch 3/20\n",
      "376/376 [==============================] - ETA: 1s - loss: 0.4336 - acc: 0.900 - ETA: 1s - loss: 0.4971 - acc: 0.733 - ETA: 1s - loss: 0.5525 - acc: 0.700 - ETA: 1s - loss: 0.5147 - acc: 0.742 - ETA: 1s - loss: 0.5396 - acc: 0.700 - ETA: 0s - loss: 0.5319 - acc: 0.727 - ETA: 0s - loss: 0.5296 - acc: 0.738 - ETA: 0s - loss: 0.5448 - acc: 0.720 - ETA: 0s - loss: 0.5387 - acc: 0.735 - ETA: 0s - loss: 0.5182 - acc: 0.752 - ETA: 0s - loss: 0.5081 - acc: 0.766 - ETA: 0s - loss: 0.5099 - acc: 0.778 - ETA: 0s - loss: 0.5165 - acc: 0.772 - ETA: 0s - loss: 0.5215 - acc: 0.770 - ETA: 0s - loss: 0.5134 - acc: 0.775 - ETA: 0s - loss: 0.5061 - acc: 0.780 - ETA: 0s - loss: 0.5076 - acc: 0.778 - ETA: 0s - loss: 0.5100 - acc: 0.771 - ETA: 0s - loss: 0.5077 - acc: 0.778 - 1s 4ms/step - loss: 0.5047 - acc: 0.7819 - val_loss: 0.4833 - val_acc: 0.7857\n",
      "Epoch 4/20\n",
      "376/376 [==============================] - ETA: 1s - loss: 0.4816 - acc: 0.700 - ETA: 1s - loss: 0.4564 - acc: 0.733 - ETA: 1s - loss: 0.4637 - acc: 0.760 - ETA: 1s - loss: 0.4557 - acc: 0.785 - ETA: 1s - loss: 0.4562 - acc: 0.777 - ETA: 0s - loss: 0.4287 - acc: 0.790 - ETA: 0s - loss: 0.4200 - acc: 0.807 - ETA: 0s - loss: 0.4384 - acc: 0.793 - ETA: 0s - loss: 0.4356 - acc: 0.811 - ETA: 0s - loss: 0.4428 - acc: 0.810 - ETA: 0s - loss: 0.4666 - acc: 0.800 - ETA: 0s - loss: 0.4585 - acc: 0.813 - ETA: 0s - loss: 0.4634 - acc: 0.804 - ETA: 0s - loss: 0.4682 - acc: 0.796 - ETA: 0s - loss: 0.4786 - acc: 0.786 - ETA: 0s - loss: 0.4747 - acc: 0.790 - ETA: 0s - loss: 0.4663 - acc: 0.797 - ETA: 0s - loss: 0.4732 - acc: 0.797 - ETA: 0s - loss: 0.4718 - acc: 0.797 - 2s 4ms/step - loss: 0.4781 - acc: 0.7926 - val_loss: 0.4338 - val_acc: 0.8651\n",
      "Epoch 5/20\n",
      "376/376 [==============================] - ETA: 1s - loss: 0.5923 - acc: 0.800 - ETA: 1s - loss: 0.5565 - acc: 0.700 - ETA: 1s - loss: 0.5538 - acc: 0.720 - ETA: 1s - loss: 0.5721 - acc: 0.671 - ETA: 1s - loss: 0.5722 - acc: 0.688 - ETA: 1s - loss: 0.5657 - acc: 0.681 - ETA: 1s - loss: 0.5333 - acc: 0.715 - ETA: 0s - loss: 0.5108 - acc: 0.740 - ETA: 0s - loss: 0.5082 - acc: 0.741 - ETA: 0s - loss: 0.5019 - acc: 0.752 - ETA: 0s - loss: 0.5045 - acc: 0.747 - ETA: 0s - loss: 0.4863 - acc: 0.760 - ETA: 0s - loss: 0.4728 - acc: 0.772 - ETA: 0s - loss: 0.4801 - acc: 0.774 - ETA: 0s - loss: 0.4759 - acc: 0.775 - ETA: 0s - loss: 0.4700 - acc: 0.783 - ETA: 0s - loss: 0.4739 - acc: 0.784 - ETA: 0s - loss: 0.4766 - acc: 0.788 - ETA: 0s - loss: 0.4700 - acc: 0.794 - 2s 4ms/step - loss: 0.4697 - acc: 0.7952 - val_loss: 0.4200 - val_acc: 0.8730\n",
      "Epoch 6/20\n",
      "376/376 [==============================] - ETA: 1s - loss: 0.3107 - acc: 0.900 - ETA: 1s - loss: 0.3606 - acc: 0.833 - ETA: 1s - loss: 0.3641 - acc: 0.825 - ETA: 1s - loss: 0.4476 - acc: 0.783 - ETA: 1s - loss: 0.4500 - acc: 0.775 - ETA: 1s - loss: 0.4489 - acc: 0.780 - ETA: 1s - loss: 0.4266 - acc: 0.800 - ETA: 0s - loss: 0.4328 - acc: 0.785 - ETA: 0s - loss: 0.4161 - acc: 0.800 - ETA: 0s - loss: 0.4031 - acc: 0.805 - ETA: 0s - loss: 0.4073 - acc: 0.815 - ETA: 0s - loss: 0.4152 - acc: 0.809 - ETA: 0s - loss: 0.4135 - acc: 0.808 - ETA: 0s - loss: 0.4175 - acc: 0.796 - ETA: 0s - loss: 0.4274 - acc: 0.789 - ETA: 0s - loss: 0.4219 - acc: 0.793 - ETA: 0s - loss: 0.4250 - acc: 0.793 - ETA: 0s - loss: 0.4224 - acc: 0.794 - ETA: 0s - loss: 0.4157 - acc: 0.800 - 2s 4ms/step - loss: 0.4148 - acc: 0.8059 - val_loss: 0.4107 - val_acc: 0.7778\n",
      "Epoch 7/20\n",
      "376/376 [==============================] - ETA: 1s - loss: 0.2768 - acc: 0.800 - ETA: 1s - loss: 0.3579 - acc: 0.866 - ETA: 1s - loss: 0.3955 - acc: 0.840 - ETA: 1s - loss: 0.4461 - acc: 0.785 - ETA: 1s - loss: 0.4686 - acc: 0.755 - ETA: 0s - loss: 0.4754 - acc: 0.754 - ETA: 0s - loss: 0.4786 - acc: 0.753 - ETA: 0s - loss: 0.4548 - acc: 0.766 - ETA: 0s - loss: 0.4598 - acc: 0.758 - ETA: 0s - loss: 0.4370 - acc: 0.773 - ETA: 0s - loss: 0.4380 - acc: 0.781 - ETA: 0s - loss: 0.4225 - acc: 0.795 - ETA: 0s - loss: 0.4202 - acc: 0.796 - ETA: 0s - loss: 0.4113 - acc: 0.803 - ETA: 0s - loss: 0.4429 - acc: 0.796 - ETA: 0s - loss: 0.4347 - acc: 0.800 - ETA: 0s - loss: 0.4402 - acc: 0.793 - ETA: 0s - loss: 0.4407 - acc: 0.788 - ETA: 0s - loss: 0.4372 - acc: 0.791 - 1s 4ms/step - loss: 0.4355 - acc: 0.7926 - val_loss: 0.3904 - val_acc: 0.8810\n",
      "Epoch 8/20\n"
     ]
    },
    {
     "name": "stdout",
     "output_type": "stream",
     "text": [
      "376/376 [==============================] - ETA: 1s - loss: 0.2273 - acc: 0.900 - ETA: 1s - loss: 0.3005 - acc: 0.866 - ETA: 1s - loss: 0.3704 - acc: 0.820 - ETA: 1s - loss: 0.3435 - acc: 0.857 - ETA: 1s - loss: 0.3486 - acc: 0.844 - ETA: 1s - loss: 0.3868 - acc: 0.818 - ETA: 0s - loss: 0.3801 - acc: 0.830 - ETA: 0s - loss: 0.3795 - acc: 0.833 - ETA: 0s - loss: 0.3804 - acc: 0.835 - ETA: 0s - loss: 0.3828 - acc: 0.831 - ETA: 0s - loss: 0.3815 - acc: 0.833 - ETA: 0s - loss: 0.3826 - acc: 0.834 - ETA: 0s - loss: 0.3884 - acc: 0.832 - ETA: 0s - loss: 0.3969 - acc: 0.822 - ETA: 0s - loss: 0.3948 - acc: 0.831 - ETA: 0s - loss: 0.3885 - acc: 0.838 - ETA: 0s - loss: 0.3842 - acc: 0.839 - ETA: 0s - loss: 0.3839 - acc: 0.842 - ETA: 0s - loss: 0.3777 - acc: 0.843 - 1s 4ms/step - loss: 0.3745 - acc: 0.8457 - val_loss: 0.3716 - val_acc: 0.8333\n",
      "Epoch 9/20\n",
      "376/376 [==============================] - ETA: 1s - loss: 0.4594 - acc: 0.800 - ETA: 1s - loss: 0.4806 - acc: 0.800 - ETA: 1s - loss: 0.4249 - acc: 0.820 - ETA: 1s - loss: 0.3974 - acc: 0.842 - ETA: 1s - loss: 0.4177 - acc: 0.822 - ETA: 0s - loss: 0.4040 - acc: 0.818 - ETA: 0s - loss: 0.3630 - acc: 0.846 - ETA: 0s - loss: 0.3606 - acc: 0.853 - ETA: 0s - loss: 0.3713 - acc: 0.852 - ETA: 0s - loss: 0.3742 - acc: 0.847 - ETA: 0s - loss: 0.3850 - acc: 0.828 - ETA: 0s - loss: 0.3838 - acc: 0.826 - ETA: 0s - loss: 0.3818 - acc: 0.828 - ETA: 0s - loss: 0.3828 - acc: 0.822 - ETA: 0s - loss: 0.3807 - acc: 0.820 - ETA: 0s - loss: 0.3887 - acc: 0.816 - ETA: 0s - loss: 0.3773 - acc: 0.824 - ETA: 0s - loss: 0.3736 - acc: 0.828 - ETA: 0s - loss: 0.3771 - acc: 0.824 - 1s 4ms/step - loss: 0.3758 - acc: 0.8245 - val_loss: 0.4073 - val_acc: 0.7857\n",
      "Epoch 10/20\n",
      "376/376 [==============================] - ETA: 1s - loss: 0.3313 - acc: 0.800 - ETA: 1s - loss: 0.6781 - acc: 0.733 - ETA: 1s - loss: 0.5268 - acc: 0.780 - ETA: 1s - loss: 0.4658 - acc: 0.800 - ETA: 1s - loss: 0.4562 - acc: 0.788 - ETA: 0s - loss: 0.4504 - acc: 0.781 - ETA: 0s - loss: 0.4548 - acc: 0.776 - ETA: 0s - loss: 0.4263 - acc: 0.800 - ETA: 0s - loss: 0.4141 - acc: 0.805 - ETA: 0s - loss: 0.4017 - acc: 0.815 - ETA: 0s - loss: 0.3920 - acc: 0.819 - ETA: 0s - loss: 0.4131 - acc: 0.813 - ETA: 0s - loss: 0.4027 - acc: 0.816 - ETA: 0s - loss: 0.3945 - acc: 0.822 - ETA: 0s - loss: 0.3815 - acc: 0.831 - ETA: 0s - loss: 0.3738 - acc: 0.835 - ETA: 0s - loss: 0.3757 - acc: 0.827 - ETA: 0s - loss: 0.3875 - acc: 0.817 - ETA: 0s - loss: 0.3927 - acc: 0.813 - 2s 4ms/step - loss: 0.3918 - acc: 0.8138 - val_loss: 0.3474 - val_acc: 0.8730\n",
      "126/126 [==============================] - ETA:  - ETA:  - 0s 879us/step\n",
      "Accuracy: 87.301588\n",
      "Loss:  0.347378938444077\n",
      "Model saved to disk.\n"
     ]
    }
   ],
   "source": [
    "import numpy as np\n",
    "from os import path\n",
    "import os\n",
    "import pandas as pd\n",
    "import sqlite3\n",
    "from eventregistry import *\n",
    "from datetime import date, timedelta, datetime\n",
    "from nltk.corpus import stopwords\n",
    "from nltk.tokenize import sent_tokenize\n",
    "import string\n",
    "import warnings\n",
    "#import ConfigurationManager as cfg\n",
    "import sys\n",
    "from operator import itemgetter\n",
    "from sklearn.model_selection import train_test_split\n",
    "from sklearn import metrics\n",
    "with warnings.catch_warnings():\n",
    "    warnings.filterwarnings(\"ignore\",category=FutureWarning)\n",
    "    from keras.models import load_model\n",
    "    from keras.preprocessing.text import Tokenizer\n",
    "    from keras.preprocessing.sequence import pad_sequences\n",
    "    from keras.models import Sequential\n",
    "    from keras.layers import Dense, Dropout, GlobalMaxPool1D\n",
    "    from keras.layers import Flatten\n",
    "    from keras.layers import Embedding\n",
    "    from keras.callbacks import EarlyStopping,CSVLogger\n",
    "    import tensorflow as tf\n",
    "    tf.compat.v1.logging.set_verbosity(tf.compat.v1.logging.ERROR)\n",
    "\n",
    "#print('CONFIG VALUE :' + cfg.read_config('sql_db_path'))\n",
    "\n",
    "model_path = 'C:\\\\Users\\\\HIMS\\\\Downloads\\\\DueDilWorkspace\\\\DueDiligenceUI\\\\Models\\\\'\n",
    "#sql_db_path = cfg.read_config('sql_db_path')\n",
    "max_length = 1584\n",
    "embedding_dim = 50\n",
    "sentence_buffer = 3\n",
    "X_train=[]\n",
    "X_test=[]\n",
    "y_train=[]\n",
    "y_test=[]\n",
    "y_pred =[]\n",
    "y_proba=[]\n",
    "\n",
    "def fetch_data_db():\n",
    "    conn = sqlite3.connect(sql_db_path)\n",
    "    c = conn.cursor()\n",
    "    myquery = (\"SELECT Id,ArticleText,Outcome FROM DueDiligenceUI_trainingmodel WHERE IsTrained=1 and Outcome IS NOT NULL\")\n",
    "    c.execute(myquery)\n",
    "    result = c.fetchall()\n",
    "    X = []\n",
    "    Y = []\n",
    "    Ids = []\n",
    "    for record in result:\n",
    "        Ids.append(str(record[0]))\n",
    "        X.append(record[1])\n",
    "        Y.append(record[2])\n",
    "    #print(\"UPDATE DueDiligenceUI_trainingmodel SET IsTrained=1 WHERE Id IN (\" + ','.join(Ids) + \")\")\n",
    "    myquery = (\"UPDATE DueDiligenceUI_trainingmodel SET IsTrained=1 WHERE Id IN (\" + ','.join(Ids) + \")\")\n",
    "    c.execute(myquery)\n",
    "    conn.commit()\n",
    "    c.close()\n",
    "    conn.close()\n",
    "\n",
    "    return X, Y, False\n",
    "\n",
    "def fetch_data_CSV():\n",
    "    training_data = pd.read_csv(model_path + 'TrainingData.csv', encoding='latin1')\n",
    "    training_data = training_data.drop('Name', axis=1)\n",
    "\n",
    "    # conn = sqlite3.connect(sql_db_path)\n",
    "    # c = conn.cursor()\n",
    "    # cursorObj = conn.cursor()\n",
    "    #\n",
    "    # for ind in training_data.index:\n",
    "    #     content = training_data[\"Data\"][ind]\n",
    "    #     outcome = training_data[\"Pattern\"][ind]\n",
    "    #     articleDateTime = datetime.today()\n",
    "    #     # Insert article into database\n",
    "    #     sql = \"INSERT INTO DueDiligenceUI_trainingmodel (ArticleText, Outcome, TrainingDate, SearchModel_id, IsTrained) \" \\\n",
    "    #           \"VALUES(?,'\" + str(outcome) + \"','\" + str(articleDateTime) + \"',0,1) \"\n",
    "    #     #print(sql)\n",
    "    #     cursorObj.execute(sql, [content])\n",
    "    #     conn.commit()\n",
    "    #\n",
    "    # cursorObj.close()\n",
    "    # conn.close()\n",
    "    \n",
    "    return training_data['Data'], training_data['Pattern'].values, True\n",
    "\n",
    "    # turn a doc into clean tokens\n",
    "\n",
    "def clean_article(article_content):\n",
    "    tokens = [word.replace('\\\\n', ' ').replace('\\n', ' ').replace('  ', ' ') for word in article_content.split()]\n",
    "    #print(tokens)\n",
    "    # split again in order to accomodate replaced spaces into tokens by white space\n",
    "    article_content = \" \".join(tokens)\n",
    "    tokens = article_content.split()\n",
    "    #print(tokens)\n",
    "    # remove punctuation from each token except Full Stop(.)\n",
    "    table = str.maketrans('', '', '!\"#$%&\\'()*+,/:;<=>?@[\\\\]^_`{|}~')\n",
    "    tokens = [w.translate(table) for w in tokens]\n",
    "    #print(tokens)\n",
    "    # remove remaining tokens that are not alphabetic\n",
    "    tokens = [word.strip() for word in tokens if word.strip().isalpha() or '.' in word or '-' in word]\n",
    "    #print(tokens)\n",
    "    # filter out stop words\n",
    "    stop_words = set(stopwords.words('english'))\n",
    "    tokens = [w for w in tokens if not w in stop_words]\n",
    "    #print(tokens)\n",
    "    # filter out short tokens\n",
    "    tokens = [word for word in tokens if len(word) > 1 or '.' in word or '-' in word]\n",
    "    #print(tokens)\n",
    "    return tokens\n",
    "\n",
    "def unique_list(list):\n",
    "    uniquelist = []\n",
    "    [uniquelist.append(word) for word in list if word not in uniquelist or word == 'ENTITY']\n",
    "    return uniquelist\n",
    "\n",
    "def create_embedding_matrix(filepath, word_index, embedding_dim):\n",
    "    vocab_size = len(word_index) + 1  # Adding again 1 because of reserved 0 index\n",
    "    embedding_matrix = np.zeros((vocab_size, embedding_dim))\n",
    "\n",
    "    with open(filepath, encoding='utf-8') as f:\n",
    "        for line in f:\n",
    "            word, *vector = line.split()\n",
    "            if word in word_index:\n",
    "                idx = word_index[word]\n",
    "                embedding_matrix[idx] = np.array(\n",
    "                    vector, dtype=np.float32)[:embedding_dim]\n",
    "\n",
    "    return embedding_matrix\n",
    "\n",
    "def fetch_data_eventregistry(entityname):\n",
    "    er = EventRegistry(apiKey=\"f4a005ab-a24f-487e-bff4-f39b1b2ba6c2\")\n",
    "    # q = QueryArticlesIter(\n",
    "    #     keywords=entityname,\n",
    "    #     dataType=[\"news\"],  # , \"blog\"],\n",
    "    #     lang=\"eng\",\n",
    "    #     dateStart=date.today() - timedelta(days=30),\n",
    "    #     dateEnd=date.today())\n",
    "    cq = ComplexArticleQuery(\n",
    "        query=CombinedQuery.AND(\n",
    "            [\n",
    "                BaseQuery(keyword=QueryItems.AND([\"narendra\", \"modi\"]),\n",
    "                          #sourceLocationUri=er.getLocationUri(\"United States\"),\n",
    "                          lang=\"eng\",\n",
    "                          dateStart=date.today() - timedelta(days=45),\n",
    "                          dateEnd=date.today()\n",
    "                          ),\n",
    "                BaseQuery(keyword=QueryItems.OR(\n",
    "                    [\"sanction\", \"bribery\", \"laundering\", \"corruption\", \"blacklist\", \"crime\", \"scam\", \"fraud\"]))\n",
    "                # \"drugs\",\"trafficking\",\"gambling\",\"illegal\",\"smuggling\",\"terrorism\",\n",
    "                # \"extortion\",\"forgery\",\"tax evasion\",\"SDN\",\"burglary\",\"robbery\",\"murder\"]))\n",
    "            ])\n",
    "    )\n",
    "    q = QueryArticles.initWithComplexQuery(cq)\n",
    "    q.setRequestedResult(RequestArticlesInfo(page=1,\n",
    "                                             count=10,\n",
    "                                             sortBy=\"date\", sortByAsc=False,\n",
    "                                             returnInfo=ReturnInfo()))\n",
    "    res = er.execQuery(q)\n",
    "\n",
    "    X = []\n",
    "\n",
    "    conn = sqlite3.connect(sql_db_path)\n",
    "    c = conn.cursor()\n",
    "    cursorObj = conn.cursor()\n",
    "    # obtain at most 500 newest articles or blog posts\n",
    "    for article in res['articles']['results']:\n",
    "        content = article[\"body\"]\n",
    "        articleDateTime = article[\"dateTime\"].replace('T', ' ', 1).replace('Z', '', 1)\n",
    "        # Insert article into database\n",
    "        sql = \"INSERT INTO DueDiligenceUI_trainingmodel (ArticleText, TrainingDate, SearchModel_id, IsTrained) \" \\\n",
    "              \"VALUES(?,'\" + articleDateTime + \"',0,0) \"\n",
    "        print(sql)\n",
    "        cursorObj.execute(sql, [content])\n",
    "        conn.commit()\n",
    "        # print('---------------------------------Article Body---------------------------------')\n",
    "        # print(content + os.linesep)\n",
    "        # printn('---------------------------------Tokens---------------------------------')\n",
    "        #tokens = unique_list(clean_article(content))\n",
    "        tokens = clean_article(content)\n",
    "        token_sentence = \" \".join(tokens)\n",
    "        # print(token_sentence)\n",
    "        X.append(token_sentence)\n",
    "    cursorObj.close()\n",
    "    conn.close()\n",
    "    return X\n",
    "\n",
    "def train_sequential_model(X, Y, is_split_data):\n",
    "    print('Number of records for training the model : ', str(len(X)))\n",
    "    # Data pre-processing\n",
    "    for index, value in enumerate(X):\n",
    "        #print(value)\n",
    "        #tokens = unique_list(clean_article(value))\n",
    "        tokens = clean_article(value)\n",
    "        #print('\\n-------------------------------------------\\n')\n",
    "        # Slice out max length characters from the article\n",
    "        # if len(tokens) > max_length:\n",
    "        #     tokens = tokens[:max_length]\n",
    "\n",
    "        cleaned_article = \" \".join(tokens)\n",
    "        #print(cleaned_article)\n",
    "        # Grab Before and After 2 sentences of sentence with ENTITY word\n",
    "        sentences = sent_tokenize(cleaned_article)\n",
    "        indices = [idx for idx, sent in enumerate(sentences) if 'ENTITY' in sent]\n",
    "        #print(indices)\n",
    "        extended_indices = []\n",
    "        for i, sentence in enumerate(sentences):\n",
    "            extended_indices.extend(list(set([i for index in indices if abs(index-i) <= sentence_buffer])))\n",
    "        #print(extended_indices)\n",
    "        #print(len(sentences))\n",
    "        #print(cleaned_article)\n",
    "        desired_list = list(itemgetter(*extended_indices)(sentences))\n",
    "\n",
    "        #print(\" \".join(desired_list))\n",
    "\n",
    "        X[index] = \" \".join(desired_list)\n",
    "        #print('\\n++++++++++++++++++++++++++++++++++++++++++++++\\n')\n",
    "        #print(X[index].encode('utf-8'))\n",
    "        #print('\\n++++++++++++++++++++++++++++++++++++++++++++++\\n')\n",
    "\n",
    "    # prepare tokenizer\n",
    "    t = Tokenizer()\n",
    "    t.fit_on_texts(X)\n",
    "    vocab_size = len(t.word_index) + 1\n",
    "    print('vocab_size : ' + str(vocab_size))\n",
    "\n",
    "    if path.exists(model_path + 'trained_model.h5'):\n",
    "        #model = load_model(model_path + 'trained_model.h5')\n",
    "        os.remove(model_path + 'trained_model.h5')\n",
    "\n",
    "        # max_length = int(cfg.read_config('max_length'))\n",
    "        #\n",
    "        # for index, value in enumerate(X):\n",
    "        #     tokens = unique_list(clean_article(value))\n",
    "        #     # Slice out max length characters from the article\n",
    "        #     if len(tokens) > max_length:\n",
    "        #         tokens = tokens[:max_length]\n",
    "        #     X[index] = \" \".join(tokens)\n",
    "    #else:\n",
    "    # pad documents to a max length of words\n",
    "    max_length = max([len(sentence.split()) for sentence in X])\n",
    "    print('max_length : ' + str(max_length))\n",
    "    # Write Max length to config file\n",
    "    #cfg.write_config('max_length', str(max_length))\n",
    "\n",
    "    # load the whole embedding into memory\n",
    "    embedding_matrix = create_embedding_matrix(model_path + 'glove.6B.50d.txt', t.word_index, embedding_dim)\n",
    "\n",
    "    # define model\n",
    "    model = Sequential()\n",
    "    e = Embedding(vocab_size, embedding_dim, weights=[embedding_matrix], input_length=max_length, trainable=False)\n",
    "    model.add(e)\n",
    "    model.add(Dense(50, activation='relu'))\n",
    "    model.add(Dropout(0.2))\n",
    "    model.add(Dense(50, activation='relu'))\n",
    "    model.add(Dropout(0.2))\n",
    "    model.add(Dense(50, activation='relu'))\n",
    "    model.add(GlobalMaxPool1D())    \n",
    "    #model.add(Dropout(0.2))\n",
    "    #model.add(Flatten())\n",
    "    #model.add(Dropout(0.2))\n",
    "    model.add(Dense(1, activation='sigmoid'))\n",
    "\n",
    "    # compile the model\n",
    "    model.compile(optimizer='adam', loss='binary_crossentropy', metrics=['acc'])\n",
    "\n",
    "    # integer encode the documents\n",
    "    encoded_docs = t.texts_to_sequences(X)\n",
    "    #print(encoded_docs)\n",
    "\n",
    "    padded_docs = pad_sequences(encoded_docs, maxlen=max_length, padding='post')\n",
    "    #print(padded_docs)\n",
    "\n",
    "    # summarize the model\n",
    "    print(model.summary())\n",
    "    \n",
    "    global X_train\n",
    "    global X_test\n",
    "    global y_train\n",
    "    global y_test\n",
    "    global y_pred\n",
    "    global y_proba\n",
    "    \n",
    "    X_train,X_test,y_train,y_test = train_test_split(padded_docs,Y, random_state=0)\n",
    "    #if is_split_data:\n",
    "    # fit the model\n",
    "    #X_train = padded_docs[:len(padded_docs)-100]\n",
    "    #y_train = Y[:len(padded_docs) - 100]\n",
    "    print('X_train, y_train', str(len(X_train)), str(len(y_train)))\n",
    "    #X_test = padded_docs[-100:]\n",
    "    #y_test = Y[-100:]\n",
    "    print('X_test, y_test', str(len(X_test)), str(len(y_test)))\n",
    "   \n",
    "    # X_val=X_train[-50:]\n",
    "    # y_val=y_train[-50:]\n",
    "    # print('X_val, y_val', str(len(X_val)), str(len(y_val)))\n",
    "\n",
    "    es_callback = EarlyStopping(monitor='val_acc', patience=3)\n",
    "    logger_callback = CSVLogger('training.log', separator=',', append=True)\n",
    "    model.fit(X_train, y_train, batch_size=10, epochs=20, validation_data=(X_test, y_test), shuffle=True, verbose=1, callbacks=[logger_callback, es_callback])\n",
    "    #, validation_freq=5,\n",
    "    #, validation_split = 0.2\n",
    "\n",
    "    # evaluate the model\n",
    "    loss, accuracy = model.evaluate(X_test, y_test, verbose=1)\n",
    "    # else:\n",
    "    #     model.fit(padded_docs, Y, epochs=30, shuffle=True, verbose=1)\n",
    "    #     loss, accuracy = model.evaluate(padded_docs, Y, verbose=1)\n",
    "    \n",
    "    y_pred = model.predict_classes(x=X_test, batch_size=5, verbose=2)        \n",
    "    y_proba = model.predict(x=X_test, batch_size=5, verbose=2)\n",
    "    \n",
    "    print('Accuracy: %f' % (accuracy * 100))\n",
    "    print('Loss: ', loss)\n",
    "\n",
    "    # Save the model to disk\n",
    "    model.save(model_path + 'trained_model.h5')\n",
    "    print(\"Model saved to disk.\")\n",
    "    \n",
    "print('#######################################################################################')\n",
    "print('Select an operation : ')\n",
    "print('1. Train the Model')\n",
    "print('2. Feedback to the Model')\n",
    "print('#######################################################################################')\n",
    "inp = input('Enter the number : ')\n",
    "if inp == '1':\n",
    "    X, Y, is_split_data = fetch_data_CSV()\n",
    "elif inp == '2':\n",
    "    X, Y, is_split_data = fetch_data_db()\n",
    "else:\n",
    "    print('Please select a valid option')\n",
    "    sys.exit()\n",
    "\n",
    "train_sequential_model(X,Y, is_split_data)"
   ]
  },
  {
   "cell_type": "code",
   "execution_count": 88,
   "metadata": {},
   "outputs": [
    {
     "name": "stdout",
     "output_type": "stream",
     "text": [
      "sklearn accuracy : 0.873015873015873\n"
     ]
    }
   ],
   "source": [
    "print('sklearn accuracy :', metrics.accuracy_score(y_test, y_pred))"
   ]
  },
  {
   "cell_type": "code",
   "execution_count": 89,
   "metadata": {},
   "outputs": [
    {
     "data": {
      "text/plain": [
       "0.5158730158730158"
      ]
     },
     "execution_count": 89,
     "metadata": {},
     "output_type": "execute_result"
    }
   ],
   "source": [
    "max(y_test.mean(), 1-y_test.mean())"
   ]
  },
  {
   "cell_type": "code",
   "execution_count": 91,
   "metadata": {},
   "outputs": [
    {
     "name": "stdout",
     "output_type": "stream",
     "text": [
      "(126,)\n",
      "(126, 1)\n",
      "True: [1 0 1 0 0 1 0 1 0 0 1 1 1 1 0 1 0 0 0 1 1 1 1 0 0 0 1 1 0 1]\n",
      "Pred: [1 1 1 0 0 1 1 1 0 0 1 1 1 1 0 1 0 1 0 1 1 0 1 1 0 0 1 1 0 1]\n"
     ]
    }
   ],
   "source": [
    "print(y_test.shape)\n",
    "print(y_pred.shape)\n",
    "print('True:', y_test[0:30])\n",
    "print('Pred:', y_pred[0:30].flatten())"
   ]
  },
  {
   "cell_type": "code",
   "execution_count": 92,
   "metadata": {},
   "outputs": [
    {
     "name": "stdout",
     "output_type": "stream",
     "text": [
      "[[56  9]\n",
      " [ 7 54]]\n"
     ]
    }
   ],
   "source": [
    "print(metrics.confusion_matrix(y_test, y_pred))"
   ]
  },
  {
   "cell_type": "code",
   "execution_count": 74,
   "metadata": {},
   "outputs": [
    {
     "name": "stdout",
     "output_type": "stream",
     "text": [
      "0.7954545454545454\n",
      "0.8333333333333334\n"
     ]
    }
   ],
   "source": [
    "print(metrics.recall_score(y_test, y_pred))\n",
    "print(metrics.precision_score(y_test, y_pred))"
   ]
  },
  {
   "cell_type": "code",
   "execution_count": 61,
   "metadata": {},
   "outputs": [],
   "source": [
    "%matplotlib inline\n",
    "import matplotlib.pyplot as plt\n",
    "plt.rcParams['font.size'] = 14"
   ]
  },
  {
   "cell_type": "code",
   "execution_count": 76,
   "metadata": {},
   "outputs": [
    {
     "data": {
      "text/plain": [
       "Text(0, 0.5, 'Frequency of probability')"
      ]
     },
     "execution_count": 76,
     "metadata": {},
     "output_type": "execute_result"
    },
    {
     "data": {
      "image/png": "[encoded data removed]",
      "text/plain": [
       "<Figure size 432x288 with 1 Axes>"
      ]
     },
     "metadata": {
      "needs_background": "light"
     },
     "output_type": "display_data"
    }
   ],
   "source": [
    "#print(y_proba[0:10])\n",
    "plt.hist(y_proba, bins=10)\n",
    "plt.xlim(0,1)\n",
    "plt.xlabel('Predicted probability')\n",
    "plt.ylabel('Frequency of probability')"
   ]
  },
  {
   "cell_type": "code",
   "execution_count": 63,
   "metadata": {},
   "outputs": [
    {
     "name": "stdout",
     "output_type": "stream",
     "text": [
      "1.0\n"
     ]
    }
   ],
   "source": [
    "from sklearn.preprocessing import binarize\n",
    "y_pred_classes = binarize(y_proba, 0.6)\n",
    "print(y_pred_classes[0][0])"
   ]
  },
  {
   "cell_type": "code",
   "execution_count": 64,
   "metadata": {},
   "outputs": [
    {
     "name": "stdout",
     "output_type": "stream",
     "text": [
      "(100,)\n",
      "(100, 1)\n",
      "[[52  4]\n",
      " [10 34]]\n"
     ]
    }
   ],
   "source": [
    "print(y_test.shape)\n",
    "print(y_pred_classes.shape)\n",
    "print(metrics.confusion_matrix(y_test, y_pred_classes))"
   ]
  },
  {
   "cell_type": "code",
   "execution_count": 77,
   "metadata": {},
   "outputs": [
    {
     "data": {
      "image/png": "[encoded data removed]",
      "text/plain": [
       "<Figure size 432x288 with 1 Axes>"
      ]
     },
     "metadata": {
      "needs_background": "light"
     },
     "output_type": "display_data"
    }
   ],
   "source": [
    "fpr, tpr, thresholds = metrics.roc_curve(y_test, y_proba)\n",
    "plt.plot(fpr, tpr)\n",
    "plt.xlim(0,1)\n",
    "plt.ylim(0,1)\n",
    "plt.title('ROC')\n",
    "plt.xlabel('False positive rate')\n",
    "plt.ylabel('True positive rate')\n",
    "plt.grid(True)"
   ]
  },
  {
   "cell_type": "code",
   "execution_count": 78,
   "metadata": {},
   "outputs": [],
   "source": [
    "\n",
    "# define a function that accepts a threshold and prints sensitivity and specificity\n",
    "def evaluate_threshold(threshold):\n",
    "    print('Sensitivity:', tpr[thresholds > threshold][-1])\n",
    "    print('Specificity:', 1 - fpr[thresholds > threshold][-1])"
   ]
  },
  {
   "cell_type": "code",
   "execution_count": 83,
   "metadata": {},
   "outputs": [
    {
     "name": "stdout",
     "output_type": "stream",
     "text": [
      "Sensitivity: 0.8863636363636364\n",
      "Specificity: 0.7678571428571428\n"
     ]
    }
   ],
   "source": [
    "evaluate_threshold(0.4)"
   ]
  },
  {
   "cell_type": "markdown",
   "metadata": {},
   "source": [
    "###### IMPORTANT: first argument is true values, second argument is predicted probabilities\n",
    "print(metrics.roc_auc_score(y_test, y_proba))"
   ]
  },
  {
   "cell_type": "code",
   "execution_count": 84,
   "metadata": {},
   "outputs": [
    {
     "name": "stdout",
     "output_type": "stream",
     "text": [
      "              precision    recall  f1-score   support\n",
      "\n",
      "           0       0.84      0.88      0.86        56\n",
      "           1       0.83      0.80      0.81        44\n",
      "\n",
      "    accuracy                           0.84       100\n",
      "   macro avg       0.84      0.84      0.84       100\n",
      "weighted avg       0.84      0.84      0.84       100\n",
      "\n"
     ]
    }
   ],
   "source": [
    "print(metrics.classification_report(y_test, y_pred))"
   ]
  },
  {
   "cell_type": "code",
   "execution_count": 112,
   "metadata": {},
   "outputs": [],
   "source": [
    "arr = [[0.18996625],\n",
    " [0.18996625],\n",
    " [0.5760623 ],\n",
    " [0.6663987 ],\n",
    " [0.47609997],\n",
    " [0.6663987 ],\n",
    " [0.6663987 ],\n",
    " [0.6663987 ],\n",
    " [0.8477958 ],\n",
    " [0.8477958 ]]\n",
    "test = [[0],\n",
    " [0],\n",
    " [1],\n",
    " [1],\n",
    " [0],\n",
    " [1],\n",
    " [1],\n",
    " [1],\n",
    " [1],\n",
    " [1]]\n"
   ]
  },
  {
   "cell_type": "code",
   "execution_count": 117,
   "metadata": {},
   "outputs": [
    {
     "data": {
      "text/plain": [
       "array([[0.],\n",
       "       [0.],\n",
       "       [0.],\n",
       "       [1.],\n",
       "       [0.],\n",
       "       [1.],\n",
       "       [1.],\n",
       "       [1.],\n",
       "       [1.],\n",
       "       [1.]])"
      ]
     },
     "execution_count": 117,
     "metadata": {},
     "output_type": "execute_result"
    }
   ],
   "source": [
    "pred = binarize(arr, 0.6)\n",
    "pred"
   ]
  },
  {
   "cell_type": "code",
   "execution_count": 1,
   "metadata": {},
   "outputs": [
    {
     "name": "stdout",
     "output_type": "stream",
     "text": [
      "0.9090909090909091\n"
     ]
    }
   ],
   "source": [
    "from difflib import SequenceMatcher\n",
    "s_1 = \n",
    "s_2 = 'Mohan Mehte'\n",
    "print(SequenceMatcher(a=s_1,b=s_2).ratio())"
   ]
  },
  {
   "cell_type": "code",
   "execution_count": 50,
   "metadata": {},
   "outputs": [
    {
     "name": "stdout",
     "output_type": "stream",
     "text": [
      "using user provided API key for making requests\n",
      "Event Registry host: http://eventregistry.org\n",
      "Text analytics host: http://analytics.eventregistry.org\n",
      "b'-- Anti-Corruption News Story Curated by Anti-Corruption Digest International Risk & Compliance News\\n\\nIn terms of the 10 most critical threats to doing business in the US and Canada, cyberattacks and data fraud or theft are the two biggest, a survey found.\\n\\nAnd on a global level, cyberattacks hold the No. 2 spot after fiscal crises, according to the study, produced by the World Economic Forum (WEF) in partnership with Marsh & McLennan and Zurich.\\n\\nIn Latin America, other risks top the table - largely related to governance and social instability - but awareness of the threat posed by cybercriminals is growing.\\n\\nInsurer Chubb has witnessed an increase in enquiries in the region, not just from within the financial services sector - which experienced several high-profile incidents over the past few years - but increasingly from other industries.\\n\\nAccording to regional experts from cybersecurity firm Kaspersky, 2020 will see a resurgence in attacks such as targeted ransomware and those focused on supply chains.\\n\\n\"In 2019 we confirmed that cybersecurity is indispensable, especially in corporate environments, because this year there were several significant data leaks, attacks on companies, vulnerabilities in instant messaging applications, and critical entity ransomware infections,\" said Roberto Mart\\xc3\\xadnez, senior Latin America security analyst at Kaspersky.\\n\\n\"By 2020, we forecast an increase in these types of attacks in the region, especially those with a potential for greater impact on the reputation of the victim entity, as well as the number of people affected. This will boost the expansion of crimes that have not been deployed throughout the region, such as SIM swapping and certain types of financial attacks, carried out not only by local cybercriminals, but international attackers who see Latin America as a key objective.\"\\n\\nAs countries tighten their embrace on digital technology and automation, risk will grow as criminals work to identify and exploit new vulnerabilities.\\n\\nCyberattacks and data theft or fraud are the second and seventh global risks most likely to increase in the next 10 years in the eyes of the world\\'s private sector, according to the report, titled Regional Risks for Doing Business 2019, which draws on the results of the WEF\\'s 2019 survey of nearly 13,000 business leaders in 133 countries.\\n\\n\"The fact that cyberthreats worry the business community as much as they do academia, civil society, governments and other thought leaders shows just how disruptive this risk is to all aspects of life,\" the report states.\\n\\nAgainst this backdrop, BNamericas asked experts from insurance giant Chubb - Sandra Cabrera, cyber risk manager, Chubb Latin America, and Juan Sevi, financial lines underwriter, Chubb Chile - about cybersecurity trends, and more.\\n\\nChubb recently announced a partnership with Dashlane, whose password management solution is now included free with Chubb cyber ERM policies.\\n\\nBNamericas: Have you noticed any trends in Chile in terms of demand for cyber insurance, for example, the size or type of company requesting it?'\n",
      "@@@@@@@@@@@@@@@@@@@@@@@@@@@@@@@@@@@@@@@@@@@@@@@@@@@@@@@@@@@@@@@@@@@@@@@@@@@@@@@@@@\n",
      "b'World Economic Forum (WEF), in coordination with Marsh & McLennan Companies and Zurich Insurance Group, has compiled \"Regional Risks for Doing Business report/2018-2019\", for release at the WEF annual meeting in Davos, Switzerland in January 2020, said Danucha Pichayanan, deputy secretary general of Office of the National Economic and Social Development Council (NESDS).\\n\\nThe report gathered opinions of executives in the economic sector during January to April 2019, through a survey questionnaire \"From the following list, check the five global risks that you believe to be of most concern for doing business in your country within the next 10 years.\\n\\n\"In Thailand, it was conducted by the Faculty of Commerce and Accountancy of Chulalongkorn University,\" the deputy general secretary added.\\n\\nThere were over 12,000 respondents globally with 102 in Thailand. According to the report, the top five concerns of Thai businessmen were asset bubble, failure of national governance, cyberattacks, man-made environmental catastrophes, and profound social instability.\\n\\n\"At the time of the survey, Thailand was preparing for an election which could have affected their answers, in term of confidence,\" he said.\\n\\n\" Declining interest rate, potential rise in property prices had possibly led to their concern about asset bubble. However, the Bank of Thailand has a strict policy to prevent that from happening\".\\n\\nOn the second point, the report defined national governance as having a good governance system, sound anti-corruption measures and institutional management. \"Malaysian businessmen were most concerned with this as national governance was ranked fourth in the survey in Malaysia\" Danucha added.\\n\\n\"However, it was not a major concern in Thailand as the government had been improving operational efficiency through the mechanism of the National Strategy Committee and the National Reform Committee\".\\n\\nWith regard to the threat of cyberattack, the Cybersecurity Act had been enforced to help increase the government and private sector\\'s confidence in digital information.\\n\\nMeanwhile, man-made environmental problems was a major concern in Thailand in view of the health issues related to PM 2.5 - particulate matter less than 2.5 micrometres, in the air. Measures have since been implemented to deal with the problem.\\n\\nOn the issue of profound social instability, the deputy general secretary said the government cared about the importance of information. It tried to create harmony among people by reducing inequality, raising farmers\\' income by guaranteeing the prices of rice, rubber and palm among others. Besides, the government\\'s welfare card helps support low-income earners.\\n\\nThe deputy general secretary concluded that risks listed in the survey were those international businessmen face at different levels, depending on their locations.\\n\\nThe report would be up for discussions at the WEF meeting.'\n",
      "@@@@@@@@@@@@@@@@@@@@@@@@@@@@@@@@@@@@@@@@@@@@@@@@@@@@@@@@@@@@@@@@@@@@@@@@@@@@@@@@@@\n"
     ]
    },
    {
     "name": "stdout",
     "output_type": "stream",
     "text": [
      "b'Vancouver, WA -- (SBWIRE) -- 11/15/2019 -- Growth in the Cyber insurance market\\n\\nCyber risks are becoming more prevalent and disruptive, with an increased number of incidents involving data breaches, phishing scams, malware attacks, ransomware threats, and identity theft. Cyber insurance helps protect businesses against losses resulting from cyber-attacks or data breaches. Cyber insurance coverage can include data loss and restoration, extortion, legal fees, and more. Cyber Security Insurance Market insurance increases and improves cyber security with the benefits of good security, and internalizing of the costs of poor security. There are many benefits that coincide with investing in insurance.\\n\\nAccess of PDF Sample @ https://www.blueweaveconsulting.com/cyber-security-insurances#ReportSample/\\n\\nThe growth of the US cyber insurance market is due to the introduction of legislation in most states to take appropriate security measures to protect against cyber risks and report serious breaches to national authorities. This led to an increase in demand for cyber insurance products covering personal data breach. The U.S. is the largest market for the cyber security insurance market. The U.S. economy loses US$57 billion-US$109 billion per year due to malicious cyber activity, according to the White House Council of Economic Advisers. European market can be expected grow with the rapid rate over the forecast period, owing to new laws about data security and protection, \"EU General Data Protection Regulation (GDPR)\"\\n\\nCyber challenges in Asia Pacific region, such as low cyber security investments and long dwell times, can be attributed to the complex geopolitical tensions, exposed critical infrastructure, and the severe shortage of cyber security talents in the region. Brazil is undergoing a digital revolution with few parallels in the developing world. The rate of digital penetration and social media adoption has risen exponentially over the past decade. Over 50% of Brazilians are active Internet users, & Brazilian financial institutions were early adopters of online services. Cyber security and online fraud are major concerns, with annual losses reaching billions of dollars.\\n\\nAccording to a new market report published by BlueWeave Consulting, the global cyber security insurance market was valued at US$ 4,222.3 Mn in 2017 and is expected to expand at a CAGR of 25.3% from 2018 to 2026, reaching US$ 32,543.6 Mn by the end of the forecast period. According to the report, North America was the largest contributor in terms of revenue to the cyber security insurance market in 2017.\\n\\nThe risk management segment is expected to dominate the global cyber insurance market.\\n\\nThe global market for cyber security insurance is segmented on the basis of service type, enterprise size, industry vertical and geography. On the basis of service type, the market is segmented into risk management, integrity, forefront portfolio, third party liability, and others. Risk management is expected to account a 26.8% market share in 2018\\n\\nHealthcare industry is highly affected by cyber-crime\\n\\nOn the basis of industry vertical, the market is divided into banking and financial services, telecom and IT, government, healthcare, education, manufacturing, travel and hospitality and others. Financial services, energy and utilities, and telecommunications are among the most investigated industries in APAC, highlighting the need for higher awareness levels, stronger mitigation measures, and improved cyber security postures\\n\\nNorth America accounts for more than 80% of market share in 2018\\n\\nGeographically, the global cyber security insurance market is bifurcated into North America, Asia Pacific, Europe, Latin America, and Middle East & Africa. The Asia Pacific is the most promising markets for cyber security insurance market and is slated to offer players a host of opportunities in the coming years. In the Indian market, the high demand for cyber insurance policies is due to the telecom revolution. Moreover, increase digitization of the economy further boosts the demand. Latin America is experiencing significantly more data breaches and with that, increased sales of cyber insurance. Norton Security has reported cybercrime cost Brazil roughly US$8 billion and Mexico US$3 billion in 2015. Cyber security insurance coverage is still in its at beginning stage in Latin America.\\n\\nCompetitive Dynamics\\n\\nMajor industry players in cyber security insurance market are adopting different strategic initiatives such as mergers and acquisitions, partnerships, and collaborations for technologies and new product development.\\n\\nIn June 2017, Zurich Brasila, subsidiary of Zurich Insurance Group, has launched insurance coverage for cyber-related risks, amid the fast-growing use of internet among companies and individuals. The company will offers protection in nations more exposed to cyber-attacks, such as the US, the UK and China, will now offer this product in Brazil due to increasing demand.\\n\\nIn June 2014, the UK Government launched a joint initiative with some major British insurers to increase the level of IT security in UK companies called the \"Cyber Essentials Scheme\", it is based on certificates and will ensure that certified organizations have a certain amount of security measures in place. Cyber Essentials has been developed in close consultation with the insurance industry and is backed by AIG, Marsh, Swiss Re, the British Insurance Brokers\\' Association (BIBA) and the International Underwriting Association (IUA).\\n\\nGet Detailed Analysis on Research Methodology @ https://www.blueweaveconsulting.com/cyber-security-insurances#RM/\\n\\nThe global cyber security insurance market includes key players such as XL Group Ltd., American International Group Inc., Zurich Insurance Co. Ltd, AON PLC, Allianz Global Corporate & Specialty, Munich Re Group, Chubb, HSB, BCS financial corporation, Marsh & McLennan Companies, Inc., Markel Corp, Traveler\\'s group, Hiscox, Beazely Insurance group and others.\\n\\nDon\\'t miss the business opportunity of the Cyber Security Insurance Market. Consult our analyst and gain crucial insights and facilitate your business growth.\\n\\nThe Cyber Security Insurance Market Has Been Segmented As Below:\\n\\nMarket Segmentation: Global Cyber Security Insurance Market\\n\\nBy Service Type\\n\\n- Risk Management\\n\\n- Integrity\\n\\n- Forefront Portfolio\\n\\n- Third Party Liability\\n\\nBy Enterprise Size\\n\\n- Small & Medium Enterprises (SMEs)\\n\\n- Large Enterprises\\n\\nRequest for Table of Content @ https://www.blueweaveconsulting.com/cyber-security-insurances#TOC/\\n\\nBy Industry Vertical\\n\\n- Banking, Financials\\n\\n- Telecom And IT\\n\\n- Government\\n\\n- Healthcare\\n\\n- Education\\n\\n- Manufacturing\\n\\n- Travel And Hospitality\\n\\n- Others\\n\\nRelated Reports:\\n\\nGlobal Anti-collision Sensor Market Size, By Technology (Radar, Ultrasonic, LiDar, and Camera), By Application (Adaptive Cruise Control, Blind Spot Monitor, Forward Collision Warning System, Lane Department Warning System, and Parking Sensor), By End-User Industry(Automobile, Aerospace and Defense, Industry, Rail, and Maritime), By Region (North America, Europe, Asia Pacific, Middle East & Africa and Latin America); Growth Potential, Trends Analysis, Competitive Market Size and Forecast, 2015-2025\\n\\nGlobal Earphone & Headphone Market By Type (In-Ear, On-Ear, And Over-Ear), By Technology (Wired Headphones, And Wireless Headphones), By Application (Music & Entertainment, Sports & Fitness, Gaming & Virtual Reality), By Region (North America, Asia-Pacific, Europe, MEA, And Latin America) Trend Analysis, Competitive Market Share And Forecast, 2015-2025\\n\\nFor more information on this press release visit: http://www.sbwire.com/press-releases/cyber-security-insurance-marke/release-1265556.htm\\n\\nMedia Relations Contact\\n\\nMark WailingTelephone: 1-425-320-4776\\n\\nEmail: Click to Email Mark Wailing\\n\\nWeb: https://www.blueweaveconsulting.com/'\n",
      "@@@@@@@@@@@@@@@@@@@@@@@@@@@@@@@@@@@@@@@@@@@@@@@@@@@@@@@@@@@@@@@@@@@@@@@@@@@@@@@@@@\n"
     ]
    },
    {
     "name": "stdout",
     "output_type": "stream",
     "text": [
      "b'Is Calgary really the fifth most livable city the world?\\n\\nOnce again Calgary was ranked in the top 10 places (fifth place to be exact) in the world to live by The Economist, a weekly magazine of news and opinion published in London, UK, and regarded as one of the world\\'s preeminent journals of its kind (Encyclopaedia Britannica). And Calgary has been in the top 10 for as long as I can remember.\\n\\nWhile some Calgarians herald this as evidence Calgary is doing OK, others gave their heads a shake and ask \"how can Calgary be a better place to live than Paris, Barcelona, Copenhagen or any one of a number of dynamic cities around the world?\" On social media, several Calgarians noted Calgary\\'s high unemployment rate and high taxes for small businesses as evidence Calgary is no longer a great place to live. Yet others see it as simply click-bait.\\n\\nGrain of salt\\n\\nAs with any benchmarking, the ranking depends on what you measure. In the case of The Economist, 30 parameters are divided into five umbrella categories that are then weighted to determine the final Global Livability Index. The five categories are stability (25 per cent weighting), healthcare (20 per cent weighting), culture and environment (10 per cent weighting), education (20 per cent weighting) and infrastructure (20 per cent weighting).\\n\\nThe study\\'s authors acknowledge the ranking favours cities with a population of about 1 to 5 million as these cities \"hit the sweet spot between being overcrowded and underdeveloped.\" They also recognize wealthy countries like Canada and Australia with good public healthcare, education programs, relatively new infrastructure, low crime rates and stable governments are also favoured.\\n\\nThere is only five points difference between the No. 1 city Vienna and Hamburg at No. 20, which means if you adjusted the weighting even a little bit, you would get a different ranking. For example, what would happen if culture and environment was weighted 25 per cent instead of 10 per cent and stability reduced from 25 per cent to 10 per cent? I expect cities like Paris and London and New York would rank much higher.\\n\\nIndeed, the results of The Economist\\'s Global Livability Index must be taken with a grain of salt.\\n\\nIn fact, there is also the annual Mercer Quality of Living Ranking that measures 10 parameters that are very similar to The Economist\\'s -- environment, economy, recreation, consumer goods availability, etc. -- that arrives at very different ranking. (Mercer is a subsidiary of Marsh & McLennan Companies, a global professional services firm that delivers advice to organizations on health, wealth and career needs of a changing workforce.)\\n\\nWhile Vienna was ranked as No. 1 for the 10th straight year in 2019, Zurich was No. 2, not Melbourne, as was the case for The Economist\\'s Global Livability Index. And, Mercer\\'s rankings for Canadian cities was significantly different than The Economist\\'s -- Calgary dropped from No. 5 to No. 32, Toronto also fell from No. 7 to No. 16, but Vancouver improved to No. 3 from No. 6.\\n\\nIn 2016, the Conference Board of Canada did a City Health Scorecard for 10 Canadian cities. Saskatoon, Calgary and Winnipeg got top honours -- all got As.\\n\\nThe Greater Vancouver Board of Trade, using the Conference Board\\'s Scorecard template, evaluated 20 international cities, using 38 key economic and social indicators and determined Singapore was No. 1, Calgary No. 2, Seattle No. 3, San Francisco No. 4, Copenhagen No. 5, Toronto No. 6, Vancouver No. 7, Manchester No. 8, Seoul No. 9 and Montreal No.10.\\n\\nIt can\\'t be coincidence that Calgary ranks high on all of these city evaluations. Regardless of which study you believe, or even if you think city ranking and benchmarking is a waste of time, these studies are valid attempts at being objective indicators of a city\\'s global competitiveness in recruiting or retaining the entrepreneurs of tomorrow.\\n\\nStop focusing on the negative\\n\\nToo often Calgarians (including myself) focus on the negative things about living in our city. Yes, Calgary isn\\'t perfect (no city is), but it is better than many give it credit for. While it might not be boom times, more people are still moving to Calgary than leaving -- the 2019 census showed 9,560 more and 11,588 in 2018. That tells you Calgary is still attractive to newcomers.\\n\\nAnd when it comes to a place to live, Calgary has lots to offer especially when it comes to buying a home. Calgary is significantly more affordable than Vancouver, Toronto, Seattle or San Francisco where condos cost over $1,000 per square foot, compared to Calgary\\'s $500, and single family homes anywhere near the city centre cost nearly $2 million, if you can find one.\\n\\nHousing Development\\n\\nNew affordable (by global standards) city centre condos are being added to Calgary\\'s Beltline, Bridgeland, Inglewood and Kensington communities every year. Even our established communities are improving as a place to live with new condo projects in Marda Loop and Britannia and new master-planned urban villages like Currie, Greenwich, Quarry Park, Trinity Village, University District and West District.\\n\\nOur city centre is evolving into a more attractive place to live every year with the addition of public amenities like the new library, West Eau Claire Park, St. Patrick\\'s Island Park and the Beltline mural program. And Calgary adds thousands of new infill family homes each year that revitalize our inner city communities.\\n\\nCalgary\\'s new suburban master-planned communities, such as Seton, are being developed with more diversity of uses, housing options and density. And last year, we added two of the largest YMCA-operated recreation centres in the world -- one in the north and one in the south.\\n\\nFor those living at the northern edge of the city, Cross Iron Mills meets most of their shopping and entertainment needs and it is a short commute to work in the northeast warehouse district that includes the Calgary International Airport.\\n\\nIndeed, Calgary has some of the best suburbs and one of the best city centres in North America.\\n\\nLast Word\\n\\nSo, while the grass might seem to be greener in other cities, especially in the winter, Calgary has a lot to offer anyone wanting to live in a clean, safe and affordable city, with access to great parks, recreation and entertainment activities. Calgary may not be the best at \"anything,\" but we are better than most at a lot of things.\\n\\nNo city can afford to be the best at everything. That\\'s the flaw in doing \"best practices\" benchmarking. You can always find someone who does it better than you.'\n",
      "@@@@@@@@@@@@@@@@@@@@@@@@@@@@@@@@@@@@@@@@@@@@@@@@@@@@@@@@@@@@@@@@@@@@@@@@@@@@@@@@@@\n"
     ]
    }
   ],
   "source": [
    "from eventregistry import *\n",
    "from datetime import date, timedelta\n",
    "er = EventRegistry(apiKey=\"f4a005ab-a24f-487e-bff4-f39b1b2ba6c2\")\n",
    "cq = ComplexArticleQuery(\n",
    "    query=CombinedQuery.AND(\n",
    "        [\n",
    "            BaseQuery(keyword=QueryItems.OR(['marsh & McLennan']),\n",
    "                      #sourceLocationUri=er.getLocationUri(\"United States\"),\n",
    "                      lang=\"eng\",\n",
    "                      dateStart=date.today() - timedelta(days=365),\n",
    "                      dateEnd=date.today()\n",
    "                      ),\n",
    "            BaseQuery(keyword=QueryItems.OR(\n",
    "               [\"sanction\", \"bribery\", \"laundering\", \"corruption\", \"blacklist\", \"crime\", \"scam\", \"fraud\"]))\n",
    "            # \"drugs\",\"trafficking\",\"gambling\",\"illegal\",\"smuggling\",\"terrorism\",\n",
    "            # \"extortion\",\"forgery\",\"tax evasion\",\"SDN\",\"burglary\",\"robbery\",\"murder\"]))\n",
    "        ])\n",
    ")\n",
    "q = QueryArticles.initWithComplexQuery(cq)\n",
    "q.setRequestedResult(RequestArticlesInfo(page=1,\n",
    "                                         count=10,\n",
    "                                         sortBy=\"date\", sortByAsc=False,\n",
    "                                         returnInfo=ReturnInfo()))\n",
    "res = er.execQuery(q)\n",
    "for article in res['articles']['results']:\n",
    "    print(article['body'].encode('utf-8'))\n",
    "    print('@@@@@@@@@@@@@@@@@@@@@@@@@@@@@@@@@@@@@@@@@@@@@@@@@@@@@@@@@@@@@@@@@@@@@@@@@@@@@@@@@@')"
   ]
  },
  {
   "cell_type": "code",
   "execution_count": 23,
   "metadata": {},
   "outputs": [
    {
     "name": "stdout",
     "output_type": "stream",
     "text": [
      "0.894209161624892\n"
     ]
    }
   ],
   "source": [
    "from difflib import SequenceMatcher\n",
    "s_1 = res['articles']['results'][6]['body']\n",
    "s_2 = res['articles']['results'][9]['body']\n",
    "print(SequenceMatcher(a=s_1,b=s_2).ratio())"
   ]
  },
  {
   "cell_type": "code",
   "execution_count": 25,
   "metadata": {},
   "outputs": [
    {
     "name": "stdout",
     "output_type": "stream",
     "text": [
      "Al PROPN\n",
      "Arabiyas PROPN\n",
      "correspondent NOUN\n",
      "reported VERB\n",
      "members NOUN\n",
      "Lebanese ADJ\n",
      "army NOUN\n",
      "attempted VERB\n",
      "urge NOUN\n",
      "car NOUN\n",
      "owners NOUN\n",
      "remove VERB\n",
      "cars NOUN\n",
      ". PUNCT\n",
      "According VERB\n",
      "Hezbollah PROPN\n",
      "- PUNCT\n",
      "affiliated VERB\n",
      "ENTITY PROPN\n",
      "protesters NOUN\n",
      "closed VERB\n",
      "municipality NOUN\n",
      "buildings NOUN\n",
      "Tripoli PROPN\n",
      "el PROPN\n",
      "- PUNCT\n",
      "Mina PROPN\n",
      "well ADV\n",
      "water NOUN\n",
      "authority NOUN\n",
      "north NOUN\n",
      "Lebanon PROPN\n",
      ". PUNCT\n",
      "Meanwhile ADV\n",
      "Association PROPN\n",
      "Banks PROPN\n",
      "Lebanon PROPN\n",
      "announced VERB\n",
      "closure NOUN\n",
      "banks NOUN\n",
      "Monday PROPN\n",
      "protests NOUN\n",
      "continue VERB\n",
      "across ADP\n",
      "country NOUN\n",
      ". PUNCT\n"
     ]
    }
   ],
   "source": [
    "# importing the model en_core_web_sm of English for vocabluary, syntax & entities\n",
    "import en_core_web_sm\n",
    "\n",
    "# load en_core_web_sm of English for vocabluary, syntax & entities\n",
    "nlp = en_core_web_sm.load()\n",
    "\n",
    "#  \"nlp\" Objectis used to create documents with linguistic annotations.\n",
    "docs = nlp(u\"Al Arabiyas correspondent reported members Lebanese army attempted urge car owners remove cars. According Hezbollah-affiliated ENTITY protesters closed municipality buildings Tripoli el-Mina well water authority north Lebanon. Meanwhile Association Banks Lebanon announced closure banks Monday protests continue across country.\")\n",
    "\n",
    "for word in docs:\n",
    "    print(word.text,word.pos_)"
   ]
  },
  {
   "cell_type": "code",
   "execution_count": null,
   "metadata": {},
   "outputs": [],
   "source": []
  }
 ],
 "metadata": {
  "kernelspec": {
   "display_name": "Python 3",
   "language": "python",
   "name": "python3"
  },
  "language_info": {
   "codemirror_mode": {
    "name": "ipython",
    "version": 3
   },
   "file_extension": ".py",
   "mimetype": "text/x-python",
   "name": "python",
   "nbconvert_exporter": "python",
   "pygments_lexer": "ipython3",
   "version": "3.7.3"
  }
 },
 "nbformat": 4,
 "nbformat_minor": 2
}